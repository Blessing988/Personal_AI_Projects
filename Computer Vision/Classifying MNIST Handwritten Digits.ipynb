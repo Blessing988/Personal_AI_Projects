{
 "cells": [
  {
   "cell_type": "code",
   "execution_count": 25,
   "metadata": {},
   "outputs": [],
   "source": [
    "import torch\n",
    "import torchvision\n",
    "from torchvision import transforms\n",
    "from torch.utils.data import DataLoader\n",
    "import torch.nn as nn"
   ]
  },
  {
   "cell_type": "code",
   "execution_count": 2,
   "metadata": {},
   "outputs": [],
   "source": []
  },
  {
   "cell_type": "code",
   "execution_count": 20,
   "metadata": {},
   "outputs": [],
   "source": [
    "image_path = './'\n",
    "transform = transforms.Compose(\n",
    "                    [transforms.ToTensor()])\n",
    "\n",
    "mnist_train = torchvision.datasets.MNIST(root=image_path, transform=transform,\n",
    "                                        train=True,download=False)\n",
    "\n",
    "mnist_test = torchvision.datasets.MNIST(root=image_path,transform=transform,\n",
    "                                        train=False, download=False)\n",
    "\n",
    "batch_size = 64\n",
    "torch.manual_seed(43)\n",
    "train_dl = DataLoader(mnist_train, batch_size=batch_size, shuffle=True)\n"
   ]
  },
  {
   "cell_type": "markdown",
   "metadata": {},
   "source": [
    "## Construct the model"
   ]
  },
  {
   "cell_type": "code",
   "execution_count": 27,
   "metadata": {},
   "outputs": [
    {
     "data": {
      "text/plain": [
       "Sequential(\n",
       "  (0): Flatten(start_dim=1, end_dim=-1)\n",
       "  (1): Linear(in_features=784, out_features=32, bias=True)\n",
       "  (2): ReLU()\n",
       "  (3): Linear(in_features=32, out_features=16, bias=True)\n",
       "  (4): ReLU()\n",
       "  (5): Linear(in_features=16, out_features=10, bias=True)\n",
       ")"
      ]
     },
     "execution_count": 27,
     "metadata": {},
     "output_type": "execute_result"
    }
   ],
   "source": [
    "hidden_units_list =[32, 16]\n",
    "all_layers = [nn.Flatten()]\n",
    "image_shape = mnist_train[0][0].shape\n",
    "input_size = image_shape[0] * image_shape[1] * image_shape[2]\n",
    "for hidden_size in hidden_units_list:\n",
    "    all_layers.append(nn.Linear(input_size, hidden_size))\n",
    "    all_layers.append(nn.ReLU())\n",
    "    input_size = hidden_size\n",
    "\n",
    "all_layers.append(nn.Linear(hidden_units_list[-1], 10))\n",
    "model = nn.Sequential(*all_layers)\n",
    "model "
   ]
  },
  {
   "cell_type": "code",
   "execution_count": 34,
   "metadata": {},
   "outputs": [
    {
     "name": "stdout",
     "output_type": "stream",
     "text": [
      "Epoch 0 Accuracy 0.9256\n",
      "Epoch 1 Accuracy 0.9414\n",
      "Epoch 2 Accuracy 0.9493\n",
      "Epoch 3 Accuracy 0.9561\n",
      "Epoch 4 Accuracy 0.9610\n",
      "Epoch 5 Accuracy 0.9645\n",
      "Epoch 6 Accuracy 0.9667\n",
      "Epoch 7 Accuracy 0.9693\n",
      "Epoch 8 Accuracy 0.9716\n",
      "Epoch 9 Accuracy 0.9737\n",
      "Epoch 10 Accuracy 0.9750\n",
      "Epoch 11 Accuracy 0.9776\n",
      "Epoch 12 Accuracy 0.9788\n",
      "Epoch 13 Accuracy 0.9801\n",
      "Epoch 14 Accuracy 0.9814\n",
      "Epoch 15 Accuracy 0.9823\n",
      "Epoch 16 Accuracy 0.9836\n",
      "Epoch 17 Accuracy 0.9838\n",
      "Epoch 18 Accuracy 0.9848\n",
      "Epoch 19 Accuracy 0.9855\n"
     ]
    }
   ],
   "source": [
    "loss_fn = nn.CrossEntropyLoss()\n",
    "\n",
    "optimizer = torch.optim.Adam(model.parameters(), lr=0.001)\n",
    "torch.manual_seed(0)\n",
    "num_epochs = 20\n",
    "\n",
    "for epoch in range(num_epochs):\n",
    "    accuracy_hist_train = 0\n",
    "    for x_batch, y_batch in train_dl:\n",
    "        preds = model(x_batch)\n",
    "        loss = loss_fn(preds, y_batch)\n",
    "        loss.backward()\n",
    "        optimizer.step()\n",
    "        optimizer.zero_grad()\n",
    "\n",
    "        is_correct = (preds.argmax(dim=1) == y_batch).float()\n",
    "        accuracy_hist_train += is_correct.sum()\n",
    "    accuracy_hist_train /= len(train_dl.dataset)\n",
    "    print(f'Epoch {epoch} Accuracy '\n",
    "        f'{accuracy_hist_train:.4f}')"
   ]
  },
  {
   "cell_type": "code",
   "execution_count": 39,
   "metadata": {},
   "outputs": [
    {
     "name": "stdout",
     "output_type": "stream",
     "text": [
      "Test accuracy: 0.9666\n"
     ]
    }
   ],
   "source": [
    "preds = model(mnist_test.data/255.)\n",
    "\n",
    "is_correct = (preds.argmax(dim=1) == mnist_test.targets).float()\n",
    "print(f'Test accuracy: {is_correct.mean():.4f}')"
   ]
  }
 ],
 "metadata": {
  "kernelspec": {
   "display_name": "pyml-book",
   "language": "python",
   "name": "python3"
  },
  "language_info": {
   "codemirror_mode": {
    "name": "ipython",
    "version": 3
   },
   "file_extension": ".py",
   "mimetype": "text/x-python",
   "name": "python",
   "nbconvert_exporter": "python",
   "pygments_lexer": "ipython3",
   "version": "3.9.18"
  }
 },
 "nbformat": 4,
 "nbformat_minor": 2
}
